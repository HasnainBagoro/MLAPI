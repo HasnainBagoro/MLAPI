{
 "cells": [
  {
   "cell_type": "code",
   "execution_count": null,
   "id": "cda0f30d",
   "metadata": {},
   "outputs": [
    {
     "name": "stdout",
     "output_type": "stream",
     "text": [
      "📦 Loading data...\n",
      "Remaining classes after filtering: 4\n",
      "🔍 Training model...\n"
     ]
    }
   ],
   "source": [
    "import pandas as pd\n",
    "import joblib\n",
    "from sklearn.model_selection import train_test_split\n",
    "from sklearn.feature_extraction.text import TfidfVectorizer\n",
    "from sklearn.ensemble import RandomForestClassifier\n",
    "from sklearn.pipeline import make_pipeline\n",
    "from sklearn.preprocessing import LabelEncoder\n",
    "\n",
    "CSV_PATH = \"malicious_phish.csv\"\n",
    "MODEL_PATH = \"url_model.joblib\"\n",
    "\n",
    "def train_model():\n",
    "    print(\"📦 Loading data...\")\n",
    "    df = pd.read_csv(CSV_PATH, encoding=\"latin1\")  # avoid UTF-8 decode errors\n",
    "    df.columns = df.columns.str.strip()  # remove accidental spaces\n",
    "\n",
    "    # Ensure first col is URL and second col is label\n",
    "    X = df.iloc[:, 0].astype(str)\n",
    "    y = df.iloc[:, 1].astype(str)\n",
    "\n",
    "    # Drop classes with fewer than 2 samples\n",
    "    class_counts = y.value_counts()\n",
    "    valid_classes = class_counts[class_counts >= 2].index\n",
    "    mask = y.isin(valid_classes)\n",
    "    X = X[mask]\n",
    "    y = y[mask]\n",
    "\n",
    "    print(f\"Remaining classes after filtering: {y.nunique()}\")\n",
    "\n",
    "    le = LabelEncoder()\n",
    "    y_enc = le.fit_transform(y)\n",
    "\n",
    "    X_train, X_test, y_train, y_test = train_test_split(\n",
    "        X, y_enc, test_size=0.2, random_state=42, stratify=y_enc\n",
    "    )\n",
    "\n",
    "    print(\"🔍 Training model...\")\n",
    "    model = make_pipeline(\n",
    "        TfidfVectorizer(analyzer=\"char_wb\", ngram_range=(3, 6), max_features=30000),\n",
    "        RandomForestClassifier(n_estimators=500, random_state=42, n_jobs=-1)\n",
    "    )\n",
    "\n",
    "    model.fit(X_train, y_train)\n",
    "    acc = model.score(X_test, y_test)\n",
    "    print(f\"✅ Accuracy: {acc:.2%}\")\n",
    "\n",
    "    joblib.dump({\"model\": model, \"encoder\": le}, MODEL_PATH)\n",
    "    print(f\"💾 Model saved to {MODEL_PATH}\")\n",
    "\n",
    "def predict_url(url):\n",
    "    bundle = joblib.load(MODEL_PATH)\n",
    "    model = bundle[\"model\"]\n",
    "    encoder = bundle[\"encoder\"]\n",
    "\n",
    "    pred = model.predict([url])[0]\n",
    "    label = encoder.inverse_transform([pred])[0]\n",
    "    return label\n",
    "\n",
    "# ==== Example usage ====\n",
    "train_model()\n",
    "print(\"🔮 Prediction:\", predict_url(\"https://paypal-login.example.com\"))\n"
   ]
  }
 ],
 "metadata": {
  "kernelspec": {
   "display_name": "base",
   "language": "python",
   "name": "python3"
  },
  "language_info": {
   "codemirror_mode": {
    "name": "ipython",
    "version": 3
   },
   "file_extension": ".py",
   "mimetype": "text/x-python",
   "name": "python",
   "nbconvert_exporter": "python",
   "pygments_lexer": "ipython3",
   "version": "3.11.0"
  }
 },
 "nbformat": 4,
 "nbformat_minor": 5
}
